{
  "cells": [
    {
      "cell_type": "markdown",
      "metadata": {
        "id": "view-in-github",
        "colab_type": "text"
      },
      "source": [
        "<a href=\"https://colab.research.google.com/github/PhamDucThinh1995/Test-Time-Augmentation/blob/main/Test_Time_Augmentation.ipynb\" target=\"_parent\"><img src=\"https://colab.research.google.com/assets/colab-badge.svg\" alt=\"Open In Colab\"/></a>"
      ]
    },
    {
      "cell_type": "code",
      "execution_count": 1,
      "metadata": {
        "id": "3Z_2_ImV_QvU"
      },
      "outputs": [],
      "source": [
        "from keras.datasets import cifar10, mnist, fashion_mnist\n",
        "from keras.preprocessing import image\n",
        "from keras.layers import Conv2D, Dense, Input, Flatten, Dropout\n",
        "from keras.models import Model, Sequential, load_model\n",
        "from tensorflow.keras.utils import to_categorical\n",
        "from keras.utils.vis_utils import plot_model\n",
        "from keras import optimizers\n",
        "import keras\n",
        "from keras.preprocessing.image import ImageDataGenerator\n",
        "from tqdm import tqdm\n",
        "import numpy as np\n",
        "from keras import backend as K\n",
        "import matplotlib.pyplot as plt"
      ]
    },
    {
      "cell_type": "code",
      "execution_count": 2,
      "metadata": {
        "id": "bX-Ph4w-_WY5",
        "colab": {
          "base_uri": "https://localhost:8080/"
        },
        "outputId": "068c3d2e-fc41-4000-a9ab-773ba2f32af7"
      },
      "outputs": [
        {
          "output_type": "stream",
          "name": "stdout",
          "text": [
            "Downloading data from https://www.cs.toronto.edu/~kriz/cifar-10-python.tar.gz\n",
            "170500096/170498071 [==============================] - 4s 0us/step\n",
            "170508288/170498071 [==============================] - 4s 0us/step\n"
          ]
        }
      ],
      "source": [
        "# (x_train, y_train), (x_val, y_val) = cifar10.load_data()\n",
        "(x_train, y_train), (x_val, y_val) = cifar10.load_data()"
      ]
    },
    {
      "cell_type": "code",
      "execution_count": 3,
      "metadata": {
        "colab": {
          "base_uri": "https://localhost:8080/"
        },
        "id": "pt-RCK-z_0yj",
        "outputId": "fd34b0af-9621-4f54-8c28-8c4067fbe8cd"
      },
      "outputs": [
        {
          "output_type": "execute_result",
          "data": {
            "text/plain": [
              "225000"
            ]
          },
          "metadata": {},
          "execution_count": 3
        }
      ],
      "source": [
        "y_train.sum()"
      ]
    },
    {
      "cell_type": "code",
      "source": [
        ""
      ],
      "metadata": {
        "id": "s0Rlor8rchiB"
      },
      "execution_count": 3,
      "outputs": []
    },
    {
      "cell_type": "code",
      "execution_count": 4,
      "metadata": {
        "colab": {
          "base_uri": "https://localhost:8080/"
        },
        "id": "GiTy-84zNZsI",
        "outputId": "1eeb28ed-ca50-4b3b-9712-9b7483dba6d0"
      },
      "outputs": [
        {
          "output_type": "execute_result",
          "data": {
            "text/plain": [
              "array([[[[ 59,  62,  63],\n",
              "         [ 43,  46,  45],\n",
              "         [ 50,  48,  43],\n",
              "         ...,\n",
              "         [158, 132, 108],\n",
              "         [152, 125, 102],\n",
              "         [148, 124, 103]],\n",
              "\n",
              "        [[ 16,  20,  20],\n",
              "         [  0,   0,   0],\n",
              "         [ 18,   8,   0],\n",
              "         ...,\n",
              "         [123,  88,  55],\n",
              "         [119,  83,  50],\n",
              "         [122,  87,  57]],\n",
              "\n",
              "        [[ 25,  24,  21],\n",
              "         [ 16,   7,   0],\n",
              "         [ 49,  27,   8],\n",
              "         ...,\n",
              "         [118,  84,  50],\n",
              "         [120,  84,  50],\n",
              "         [109,  73,  42]],\n",
              "\n",
              "        ...,\n",
              "\n",
              "        [[208, 170,  96],\n",
              "         [201, 153,  34],\n",
              "         [198, 161,  26],\n",
              "         ...,\n",
              "         [160, 133,  70],\n",
              "         [ 56,  31,   7],\n",
              "         [ 53,  34,  20]],\n",
              "\n",
              "        [[180, 139,  96],\n",
              "         [173, 123,  42],\n",
              "         [186, 144,  30],\n",
              "         ...,\n",
              "         [184, 148,  94],\n",
              "         [ 97,  62,  34],\n",
              "         [ 83,  53,  34]],\n",
              "\n",
              "        [[177, 144, 116],\n",
              "         [168, 129,  94],\n",
              "         [179, 142,  87],\n",
              "         ...,\n",
              "         [216, 184, 140],\n",
              "         [151, 118,  84],\n",
              "         [123,  92,  72]]],\n",
              "\n",
              "\n",
              "       [[[154, 177, 187],\n",
              "         [126, 137, 136],\n",
              "         [105, 104,  95],\n",
              "         ...,\n",
              "         [ 91,  95,  71],\n",
              "         [ 87,  90,  71],\n",
              "         [ 79,  81,  70]],\n",
              "\n",
              "        [[140, 160, 169],\n",
              "         [145, 153, 154],\n",
              "         [125, 125, 118],\n",
              "         ...,\n",
              "         [ 96,  99,  78],\n",
              "         [ 77,  80,  62],\n",
              "         [ 71,  73,  61]],\n",
              "\n",
              "        [[140, 155, 164],\n",
              "         [139, 146, 149],\n",
              "         [115, 115, 112],\n",
              "         ...,\n",
              "         [ 79,  82,  64],\n",
              "         [ 68,  70,  55],\n",
              "         [ 67,  69,  55]],\n",
              "\n",
              "        ...,\n",
              "\n",
              "        [[175, 167, 166],\n",
              "         [156, 154, 160],\n",
              "         [154, 160, 170],\n",
              "         ...,\n",
              "         [ 42,  34,  36],\n",
              "         [ 61,  53,  57],\n",
              "         [ 93,  83,  91]],\n",
              "\n",
              "        [[165, 154, 128],\n",
              "         [156, 152, 130],\n",
              "         [159, 161, 142],\n",
              "         ...,\n",
              "         [103,  93,  96],\n",
              "         [123, 114, 120],\n",
              "         [131, 121, 131]],\n",
              "\n",
              "        [[163, 148, 120],\n",
              "         [158, 148, 122],\n",
              "         [163, 156, 133],\n",
              "         ...,\n",
              "         [143, 133, 139],\n",
              "         [143, 134, 142],\n",
              "         [143, 133, 144]]],\n",
              "\n",
              "\n",
              "       [[[255, 255, 255],\n",
              "         [253, 253, 253],\n",
              "         [253, 253, 253],\n",
              "         ...,\n",
              "         [253, 253, 253],\n",
              "         [253, 253, 253],\n",
              "         [253, 253, 253]],\n",
              "\n",
              "        [[255, 255, 255],\n",
              "         [255, 255, 255],\n",
              "         [255, 255, 255],\n",
              "         ...,\n",
              "         [255, 255, 255],\n",
              "         [255, 255, 255],\n",
              "         [255, 255, 255]],\n",
              "\n",
              "        [[255, 255, 255],\n",
              "         [254, 254, 254],\n",
              "         [254, 254, 254],\n",
              "         ...,\n",
              "         [254, 254, 254],\n",
              "         [254, 254, 254],\n",
              "         [254, 254, 254]],\n",
              "\n",
              "        ...,\n",
              "\n",
              "        [[113, 120, 112],\n",
              "         [111, 118, 111],\n",
              "         [105, 112, 106],\n",
              "         ...,\n",
              "         [ 72,  81,  80],\n",
              "         [ 72,  80,  79],\n",
              "         [ 72,  80,  79]],\n",
              "\n",
              "        [[111, 118, 110],\n",
              "         [104, 111, 104],\n",
              "         [ 99, 106,  98],\n",
              "         ...,\n",
              "         [ 68,  75,  73],\n",
              "         [ 70,  76,  75],\n",
              "         [ 78,  84,  82]],\n",
              "\n",
              "        [[106, 113, 105],\n",
              "         [ 99, 106,  98],\n",
              "         [ 95, 102,  94],\n",
              "         ...,\n",
              "         [ 78,  85,  83],\n",
              "         [ 79,  85,  83],\n",
              "         [ 80,  86,  84]]],\n",
              "\n",
              "\n",
              "       ...,\n",
              "\n",
              "\n",
              "       [[[ 35, 178, 235],\n",
              "         [ 40, 176, 239],\n",
              "         [ 42, 176, 241],\n",
              "         ...,\n",
              "         [ 99, 177, 219],\n",
              "         [ 79, 147, 197],\n",
              "         [ 89, 148, 189]],\n",
              "\n",
              "        [[ 57, 182, 234],\n",
              "         [ 44, 184, 250],\n",
              "         [ 50, 183, 240],\n",
              "         ...,\n",
              "         [156, 182, 200],\n",
              "         [141, 177, 206],\n",
              "         [116, 149, 175]],\n",
              "\n",
              "        [[ 98, 197, 237],\n",
              "         [ 64, 189, 252],\n",
              "         [ 69, 192, 245],\n",
              "         ...,\n",
              "         [188, 195, 206],\n",
              "         [119, 135, 147],\n",
              "         [ 61,  79,  90]],\n",
              "\n",
              "        ...,\n",
              "\n",
              "        [[ 73,  79,  77],\n",
              "         [ 53,  63,  68],\n",
              "         [ 54,  68,  80],\n",
              "         ...,\n",
              "         [ 17,  40,  64],\n",
              "         [ 21,  36,  51],\n",
              "         [ 33,  48,  49]],\n",
              "\n",
              "        [[ 61,  68,  75],\n",
              "         [ 55,  70,  86],\n",
              "         [ 57,  79, 103],\n",
              "         ...,\n",
              "         [ 24,  48,  72],\n",
              "         [ 17,  35,  53],\n",
              "         [  7,  23,  32]],\n",
              "\n",
              "        [[ 44,  56,  73],\n",
              "         [ 46,  66,  88],\n",
              "         [ 49,  77, 105],\n",
              "         ...,\n",
              "         [ 27,  52,  77],\n",
              "         [ 21,  43,  66],\n",
              "         [ 12,  31,  50]]],\n",
              "\n",
              "\n",
              "       [[[189, 211, 240],\n",
              "         [186, 208, 236],\n",
              "         [185, 207, 235],\n",
              "         ...,\n",
              "         [175, 195, 224],\n",
              "         [172, 194, 222],\n",
              "         [169, 194, 220]],\n",
              "\n",
              "        [[194, 210, 239],\n",
              "         [191, 207, 236],\n",
              "         [190, 206, 235],\n",
              "         ...,\n",
              "         [173, 192, 220],\n",
              "         [171, 191, 218],\n",
              "         [167, 190, 216]],\n",
              "\n",
              "        [[208, 219, 244],\n",
              "         [205, 216, 240],\n",
              "         [204, 215, 239],\n",
              "         ...,\n",
              "         [175, 191, 217],\n",
              "         [172, 190, 216],\n",
              "         [169, 191, 215]],\n",
              "\n",
              "        ...,\n",
              "\n",
              "        [[207, 199, 181],\n",
              "         [203, 195, 175],\n",
              "         [203, 196, 173],\n",
              "         ...,\n",
              "         [135, 132, 127],\n",
              "         [162, 158, 150],\n",
              "         [168, 163, 151]],\n",
              "\n",
              "        [[198, 190, 170],\n",
              "         [189, 181, 159],\n",
              "         [180, 172, 147],\n",
              "         ...,\n",
              "         [178, 171, 160],\n",
              "         [175, 169, 156],\n",
              "         [175, 169, 154]],\n",
              "\n",
              "        [[198, 189, 173],\n",
              "         [189, 181, 162],\n",
              "         [178, 170, 149],\n",
              "         ...,\n",
              "         [195, 184, 169],\n",
              "         [196, 189, 171],\n",
              "         [195, 190, 171]]],\n",
              "\n",
              "\n",
              "       [[[229, 229, 239],\n",
              "         [236, 237, 247],\n",
              "         [234, 236, 247],\n",
              "         ...,\n",
              "         [217, 219, 233],\n",
              "         [221, 223, 234],\n",
              "         [222, 223, 233]],\n",
              "\n",
              "        [[222, 221, 229],\n",
              "         [239, 239, 249],\n",
              "         [233, 234, 246],\n",
              "         ...,\n",
              "         [223, 223, 236],\n",
              "         [227, 228, 238],\n",
              "         [210, 211, 220]],\n",
              "\n",
              "        [[213, 206, 211],\n",
              "         [234, 232, 239],\n",
              "         [231, 233, 244],\n",
              "         ...,\n",
              "         [220, 220, 232],\n",
              "         [220, 219, 232],\n",
              "         [202, 203, 215]],\n",
              "\n",
              "        ...,\n",
              "\n",
              "        [[150, 143, 135],\n",
              "         [140, 135, 127],\n",
              "         [132, 127, 120],\n",
              "         ...,\n",
              "         [224, 222, 218],\n",
              "         [230, 228, 225],\n",
              "         [241, 241, 238]],\n",
              "\n",
              "        [[137, 132, 126],\n",
              "         [130, 127, 120],\n",
              "         [125, 121, 115],\n",
              "         ...,\n",
              "         [181, 180, 178],\n",
              "         [202, 201, 198],\n",
              "         [212, 211, 207]],\n",
              "\n",
              "        [[122, 119, 114],\n",
              "         [118, 116, 110],\n",
              "         [120, 116, 111],\n",
              "         ...,\n",
              "         [179, 177, 173],\n",
              "         [164, 164, 162],\n",
              "         [163, 163, 161]]]], dtype=uint8)"
            ]
          },
          "metadata": {},
          "execution_count": 4
        }
      ],
      "source": [
        "x_train"
      ]
    },
    {
      "cell_type": "code",
      "execution_count": 5,
      "metadata": {
        "id": "29ESysaJ_W7H"
      },
      "outputs": [],
      "source": [
        "x_train, x_val = x_train.astype('float32')/255.,  x_val.astype('float32')/255. #Normalize step\n",
        "y_train, y_val = to_categorical(y_train), to_categorical(y_val)"
      ]
    },
    {
      "cell_type": "code",
      "execution_count": 6,
      "metadata": {
        "colab": {
          "base_uri": "https://localhost:8080/"
        },
        "id": "sQSns-t2NdGn",
        "outputId": "82394ee1-7c62-4763-b3c3-0cd1f6364b60"
      },
      "outputs": [
        {
          "output_type": "execute_result",
          "data": {
            "text/plain": [
              "array([[[[0.23137255, 0.24313726, 0.24705882],\n",
              "         [0.16862746, 0.18039216, 0.1764706 ],\n",
              "         [0.19607843, 0.1882353 , 0.16862746],\n",
              "         ...,\n",
              "         [0.61960787, 0.5176471 , 0.42352942],\n",
              "         [0.59607846, 0.49019608, 0.4       ],\n",
              "         [0.5803922 , 0.4862745 , 0.40392157]],\n",
              "\n",
              "        [[0.0627451 , 0.07843138, 0.07843138],\n",
              "         [0.        , 0.        , 0.        ],\n",
              "         [0.07058824, 0.03137255, 0.        ],\n",
              "         ...,\n",
              "         [0.48235294, 0.34509805, 0.21568628],\n",
              "         [0.46666667, 0.3254902 , 0.19607843],\n",
              "         [0.47843137, 0.34117648, 0.22352941]],\n",
              "\n",
              "        [[0.09803922, 0.09411765, 0.08235294],\n",
              "         [0.0627451 , 0.02745098, 0.        ],\n",
              "         [0.19215687, 0.10588235, 0.03137255],\n",
              "         ...,\n",
              "         [0.4627451 , 0.32941177, 0.19607843],\n",
              "         [0.47058824, 0.32941177, 0.19607843],\n",
              "         [0.42745098, 0.28627452, 0.16470589]],\n",
              "\n",
              "        ...,\n",
              "\n",
              "        [[0.8156863 , 0.6666667 , 0.3764706 ],\n",
              "         [0.7882353 , 0.6       , 0.13333334],\n",
              "         [0.7764706 , 0.6313726 , 0.10196079],\n",
              "         ...,\n",
              "         [0.627451  , 0.52156866, 0.27450982],\n",
              "         [0.21960784, 0.12156863, 0.02745098],\n",
              "         [0.20784314, 0.13333334, 0.07843138]],\n",
              "\n",
              "        [[0.7058824 , 0.54509807, 0.3764706 ],\n",
              "         [0.6784314 , 0.48235294, 0.16470589],\n",
              "         [0.7294118 , 0.5647059 , 0.11764706],\n",
              "         ...,\n",
              "         [0.72156864, 0.5803922 , 0.36862746],\n",
              "         [0.38039216, 0.24313726, 0.13333334],\n",
              "         [0.3254902 , 0.20784314, 0.13333334]],\n",
              "\n",
              "        [[0.69411767, 0.5647059 , 0.45490196],\n",
              "         [0.65882355, 0.5058824 , 0.36862746],\n",
              "         [0.7019608 , 0.5568628 , 0.34117648],\n",
              "         ...,\n",
              "         [0.84705883, 0.72156864, 0.54901963],\n",
              "         [0.5921569 , 0.4627451 , 0.32941177],\n",
              "         [0.48235294, 0.36078432, 0.28235295]]],\n",
              "\n",
              "\n",
              "       [[[0.6039216 , 0.69411767, 0.73333335],\n",
              "         [0.49411765, 0.5372549 , 0.53333336],\n",
              "         [0.4117647 , 0.40784314, 0.37254903],\n",
              "         ...,\n",
              "         [0.35686275, 0.37254903, 0.2784314 ],\n",
              "         [0.34117648, 0.3529412 , 0.2784314 ],\n",
              "         [0.30980393, 0.31764707, 0.27450982]],\n",
              "\n",
              "        [[0.54901963, 0.627451  , 0.6627451 ],\n",
              "         [0.5686275 , 0.6       , 0.6039216 ],\n",
              "         [0.49019608, 0.49019608, 0.4627451 ],\n",
              "         ...,\n",
              "         [0.3764706 , 0.3882353 , 0.30588236],\n",
              "         [0.3019608 , 0.3137255 , 0.24313726],\n",
              "         [0.2784314 , 0.28627452, 0.23921569]],\n",
              "\n",
              "        [[0.54901963, 0.60784316, 0.6431373 ],\n",
              "         [0.54509807, 0.57254905, 0.58431375],\n",
              "         [0.4509804 , 0.4509804 , 0.4392157 ],\n",
              "         ...,\n",
              "         [0.30980393, 0.32156864, 0.2509804 ],\n",
              "         [0.26666668, 0.27450982, 0.21568628],\n",
              "         [0.2627451 , 0.27058825, 0.21568628]],\n",
              "\n",
              "        ...,\n",
              "\n",
              "        [[0.6862745 , 0.654902  , 0.6509804 ],\n",
              "         [0.6117647 , 0.6039216 , 0.627451  ],\n",
              "         [0.6039216 , 0.627451  , 0.6666667 ],\n",
              "         ...,\n",
              "         [0.16470589, 0.13333334, 0.14117648],\n",
              "         [0.23921569, 0.20784314, 0.22352941],\n",
              "         [0.3647059 , 0.3254902 , 0.35686275]],\n",
              "\n",
              "        [[0.64705884, 0.6039216 , 0.5019608 ],\n",
              "         [0.6117647 , 0.59607846, 0.50980395],\n",
              "         [0.62352943, 0.6313726 , 0.5568628 ],\n",
              "         ...,\n",
              "         [0.40392157, 0.3647059 , 0.3764706 ],\n",
              "         [0.48235294, 0.44705883, 0.47058824],\n",
              "         [0.5137255 , 0.4745098 , 0.5137255 ]],\n",
              "\n",
              "        [[0.6392157 , 0.5803922 , 0.47058824],\n",
              "         [0.61960787, 0.5803922 , 0.47843137],\n",
              "         [0.6392157 , 0.6117647 , 0.52156866],\n",
              "         ...,\n",
              "         [0.56078434, 0.52156866, 0.54509807],\n",
              "         [0.56078434, 0.5254902 , 0.5568628 ],\n",
              "         [0.56078434, 0.52156866, 0.5647059 ]]],\n",
              "\n",
              "\n",
              "       [[[1.        , 1.        , 1.        ],\n",
              "         [0.99215686, 0.99215686, 0.99215686],\n",
              "         [0.99215686, 0.99215686, 0.99215686],\n",
              "         ...,\n",
              "         [0.99215686, 0.99215686, 0.99215686],\n",
              "         [0.99215686, 0.99215686, 0.99215686],\n",
              "         [0.99215686, 0.99215686, 0.99215686]],\n",
              "\n",
              "        [[1.        , 1.        , 1.        ],\n",
              "         [1.        , 1.        , 1.        ],\n",
              "         [1.        , 1.        , 1.        ],\n",
              "         ...,\n",
              "         [1.        , 1.        , 1.        ],\n",
              "         [1.        , 1.        , 1.        ],\n",
              "         [1.        , 1.        , 1.        ]],\n",
              "\n",
              "        [[1.        , 1.        , 1.        ],\n",
              "         [0.99607843, 0.99607843, 0.99607843],\n",
              "         [0.99607843, 0.99607843, 0.99607843],\n",
              "         ...,\n",
              "         [0.99607843, 0.99607843, 0.99607843],\n",
              "         [0.99607843, 0.99607843, 0.99607843],\n",
              "         [0.99607843, 0.99607843, 0.99607843]],\n",
              "\n",
              "        ...,\n",
              "\n",
              "        [[0.44313726, 0.47058824, 0.4392157 ],\n",
              "         [0.43529412, 0.4627451 , 0.43529412],\n",
              "         [0.4117647 , 0.4392157 , 0.41568628],\n",
              "         ...,\n",
              "         [0.28235295, 0.31764707, 0.3137255 ],\n",
              "         [0.28235295, 0.3137255 , 0.30980393],\n",
              "         [0.28235295, 0.3137255 , 0.30980393]],\n",
              "\n",
              "        [[0.43529412, 0.4627451 , 0.43137255],\n",
              "         [0.40784314, 0.43529412, 0.40784314],\n",
              "         [0.3882353 , 0.41568628, 0.38431373],\n",
              "         ...,\n",
              "         [0.26666668, 0.29411766, 0.28627452],\n",
              "         [0.27450982, 0.29803923, 0.29411766],\n",
              "         [0.30588236, 0.32941177, 0.32156864]],\n",
              "\n",
              "        [[0.41568628, 0.44313726, 0.4117647 ],\n",
              "         [0.3882353 , 0.41568628, 0.38431373],\n",
              "         [0.37254903, 0.4       , 0.36862746],\n",
              "         ...,\n",
              "         [0.30588236, 0.33333334, 0.3254902 ],\n",
              "         [0.30980393, 0.33333334, 0.3254902 ],\n",
              "         [0.3137255 , 0.3372549 , 0.32941177]]],\n",
              "\n",
              "\n",
              "       ...,\n",
              "\n",
              "\n",
              "       [[[0.13725491, 0.69803923, 0.92156863],\n",
              "         [0.15686275, 0.6901961 , 0.9372549 ],\n",
              "         [0.16470589, 0.6901961 , 0.94509804],\n",
              "         ...,\n",
              "         [0.3882353 , 0.69411767, 0.85882354],\n",
              "         [0.30980393, 0.5764706 , 0.77254903],\n",
              "         [0.34901962, 0.5803922 , 0.7411765 ]],\n",
              "\n",
              "        [[0.22352941, 0.7137255 , 0.91764706],\n",
              "         [0.17254902, 0.72156864, 0.98039216],\n",
              "         [0.19607843, 0.7176471 , 0.9411765 ],\n",
              "         ...,\n",
              "         [0.6117647 , 0.7137255 , 0.78431374],\n",
              "         [0.5529412 , 0.69411767, 0.80784315],\n",
              "         [0.45490196, 0.58431375, 0.6862745 ]],\n",
              "\n",
              "        [[0.38431373, 0.77254903, 0.92941177],\n",
              "         [0.2509804 , 0.7411765 , 0.9882353 ],\n",
              "         [0.27058825, 0.7529412 , 0.9607843 ],\n",
              "         ...,\n",
              "         [0.7372549 , 0.7647059 , 0.80784315],\n",
              "         [0.46666667, 0.5294118 , 0.5764706 ],\n",
              "         [0.23921569, 0.30980393, 0.3529412 ]],\n",
              "\n",
              "        ...,\n",
              "\n",
              "        [[0.28627452, 0.30980393, 0.3019608 ],\n",
              "         [0.20784314, 0.24705882, 0.26666668],\n",
              "         [0.21176471, 0.26666668, 0.3137255 ],\n",
              "         ...,\n",
              "         [0.06666667, 0.15686275, 0.2509804 ],\n",
              "         [0.08235294, 0.14117648, 0.2       ],\n",
              "         [0.12941177, 0.1882353 , 0.19215687]],\n",
              "\n",
              "        [[0.23921569, 0.26666668, 0.29411766],\n",
              "         [0.21568628, 0.27450982, 0.3372549 ],\n",
              "         [0.22352941, 0.30980393, 0.40392157],\n",
              "         ...,\n",
              "         [0.09411765, 0.1882353 , 0.28235295],\n",
              "         [0.06666667, 0.13725491, 0.20784314],\n",
              "         [0.02745098, 0.09019608, 0.1254902 ]],\n",
              "\n",
              "        [[0.17254902, 0.21960784, 0.28627452],\n",
              "         [0.18039216, 0.25882354, 0.34509805],\n",
              "         [0.19215687, 0.3019608 , 0.4117647 ],\n",
              "         ...,\n",
              "         [0.10588235, 0.20392157, 0.3019608 ],\n",
              "         [0.08235294, 0.16862746, 0.25882354],\n",
              "         [0.04705882, 0.12156863, 0.19607843]]],\n",
              "\n",
              "\n",
              "       [[[0.7411765 , 0.827451  , 0.9411765 ],\n",
              "         [0.7294118 , 0.8156863 , 0.9254902 ],\n",
              "         [0.7254902 , 0.8117647 , 0.92156863],\n",
              "         ...,\n",
              "         [0.6862745 , 0.7647059 , 0.8784314 ],\n",
              "         [0.6745098 , 0.7607843 , 0.87058824],\n",
              "         [0.6627451 , 0.7607843 , 0.8627451 ]],\n",
              "\n",
              "        [[0.7607843 , 0.8235294 , 0.9372549 ],\n",
              "         [0.7490196 , 0.8117647 , 0.9254902 ],\n",
              "         [0.74509805, 0.80784315, 0.92156863],\n",
              "         ...,\n",
              "         [0.6784314 , 0.7529412 , 0.8627451 ],\n",
              "         [0.67058825, 0.7490196 , 0.85490197],\n",
              "         [0.654902  , 0.74509805, 0.84705883]],\n",
              "\n",
              "        [[0.8156863 , 0.85882354, 0.95686275],\n",
              "         [0.8039216 , 0.84705883, 0.9411765 ],\n",
              "         [0.8       , 0.84313726, 0.9372549 ],\n",
              "         ...,\n",
              "         [0.6862745 , 0.7490196 , 0.8509804 ],\n",
              "         [0.6745098 , 0.74509805, 0.84705883],\n",
              "         [0.6627451 , 0.7490196 , 0.84313726]],\n",
              "\n",
              "        ...,\n",
              "\n",
              "        [[0.8117647 , 0.78039217, 0.70980394],\n",
              "         [0.79607844, 0.7647059 , 0.6862745 ],\n",
              "         [0.79607844, 0.76862746, 0.6784314 ],\n",
              "         ...,\n",
              "         [0.5294118 , 0.5176471 , 0.49803922],\n",
              "         [0.63529414, 0.61960787, 0.5882353 ],\n",
              "         [0.65882355, 0.6392157 , 0.5921569 ]],\n",
              "\n",
              "        [[0.7764706 , 0.74509805, 0.6666667 ],\n",
              "         [0.7411765 , 0.70980394, 0.62352943],\n",
              "         [0.7058824 , 0.6745098 , 0.5764706 ],\n",
              "         ...,\n",
              "         [0.69803923, 0.67058825, 0.627451  ],\n",
              "         [0.6862745 , 0.6627451 , 0.6117647 ],\n",
              "         [0.6862745 , 0.6627451 , 0.6039216 ]],\n",
              "\n",
              "        [[0.7764706 , 0.7411765 , 0.6784314 ],\n",
              "         [0.7411765 , 0.70980394, 0.63529414],\n",
              "         [0.69803923, 0.6666667 , 0.58431375],\n",
              "         ...,\n",
              "         [0.7647059 , 0.72156864, 0.6627451 ],\n",
              "         [0.76862746, 0.7411765 , 0.67058825],\n",
              "         [0.7647059 , 0.74509805, 0.67058825]]],\n",
              "\n",
              "\n",
              "       [[[0.8980392 , 0.8980392 , 0.9372549 ],\n",
              "         [0.9254902 , 0.92941177, 0.96862745],\n",
              "         [0.91764706, 0.9254902 , 0.96862745],\n",
              "         ...,\n",
              "         [0.8509804 , 0.85882354, 0.9137255 ],\n",
              "         [0.8666667 , 0.8745098 , 0.91764706],\n",
              "         [0.87058824, 0.8745098 , 0.9137255 ]],\n",
              "\n",
              "        [[0.87058824, 0.8666667 , 0.8980392 ],\n",
              "         [0.9372549 , 0.9372549 , 0.9764706 ],\n",
              "         [0.9137255 , 0.91764706, 0.9647059 ],\n",
              "         ...,\n",
              "         [0.8745098 , 0.8745098 , 0.9254902 ],\n",
              "         [0.8901961 , 0.89411765, 0.93333334],\n",
              "         [0.8235294 , 0.827451  , 0.8627451 ]],\n",
              "\n",
              "        [[0.8352941 , 0.80784315, 0.827451  ],\n",
              "         [0.91764706, 0.9098039 , 0.9372549 ],\n",
              "         [0.90588236, 0.9137255 , 0.95686275],\n",
              "         ...,\n",
              "         [0.8627451 , 0.8627451 , 0.9098039 ],\n",
              "         [0.8627451 , 0.85882354, 0.9098039 ],\n",
              "         [0.7921569 , 0.79607844, 0.84313726]],\n",
              "\n",
              "        ...,\n",
              "\n",
              "        [[0.5882353 , 0.56078434, 0.5294118 ],\n",
              "         [0.54901963, 0.5294118 , 0.49803922],\n",
              "         [0.5176471 , 0.49803922, 0.47058824],\n",
              "         ...,\n",
              "         [0.8784314 , 0.87058824, 0.85490197],\n",
              "         [0.9019608 , 0.89411765, 0.88235295],\n",
              "         [0.94509804, 0.94509804, 0.93333334]],\n",
              "\n",
              "        [[0.5372549 , 0.5176471 , 0.49411765],\n",
              "         [0.50980395, 0.49803922, 0.47058824],\n",
              "         [0.49019608, 0.4745098 , 0.4509804 ],\n",
              "         ...,\n",
              "         [0.70980394, 0.7058824 , 0.69803923],\n",
              "         [0.7921569 , 0.7882353 , 0.7764706 ],\n",
              "         [0.83137256, 0.827451  , 0.8117647 ]],\n",
              "\n",
              "        [[0.47843137, 0.46666667, 0.44705883],\n",
              "         [0.4627451 , 0.45490196, 0.43137255],\n",
              "         [0.47058824, 0.45490196, 0.43529412],\n",
              "         ...,\n",
              "         [0.7019608 , 0.69411767, 0.6784314 ],\n",
              "         [0.6431373 , 0.6431373 , 0.63529414],\n",
              "         [0.6392157 , 0.6392157 , 0.6313726 ]]]], dtype=float32)"
            ]
          },
          "metadata": {},
          "execution_count": 6
        }
      ],
      "source": [
        "x_train"
      ]
    },
    {
      "cell_type": "code",
      "execution_count": 7,
      "metadata": {
        "colab": {
          "base_uri": "https://localhost:8080/"
        },
        "id": "ci1B-oKK_wkN",
        "outputId": "bdc3bf60-cc52-4f4f-a1b1-4de93e3cadc8"
      },
      "outputs": [
        {
          "output_type": "execute_result",
          "data": {
            "text/plain": [
              "array([[0., 0., 0., ..., 0., 0., 0.],\n",
              "       [0., 0., 0., ..., 0., 0., 1.],\n",
              "       [0., 0., 0., ..., 0., 0., 1.],\n",
              "       ...,\n",
              "       [0., 0., 0., ..., 0., 0., 1.],\n",
              "       [0., 1., 0., ..., 0., 0., 0.],\n",
              "       [0., 1., 0., ..., 0., 0., 0.]], dtype=float32)"
            ]
          },
          "metadata": {},
          "execution_count": 7
        }
      ],
      "source": [
        "y_train"
      ]
    },
    {
      "cell_type": "code",
      "execution_count": 8,
      "metadata": {
        "id": "2DMAOJjV_zNo"
      },
      "outputs": [],
      "source": [
        "train_datagen = ImageDataGenerator(\n",
        "        shear_range=0.1,\n",
        "        zoom_range=0.1,\n",
        "        horizontal_flip=True,\n",
        "        rotation_range=10.,\n",
        "        fill_mode='reflect',\n",
        "        width_shift_range = 0.1, \n",
        "        height_shift_range = 0.1)"
      ]
    },
    {
      "cell_type": "code",
      "execution_count": 9,
      "metadata": {
        "id": "PbGGWdZ_AO3W"
      },
      "outputs": [],
      "source": [
        "train_datagen.fit(x_train)"
      ]
    },
    {
      "cell_type": "code",
      "execution_count": 10,
      "metadata": {
        "colab": {
          "base_uri": "https://localhost:8080/",
          "height": 389
        },
        "id": "ZfIFPZMgARBU",
        "outputId": "d7c8c6b2-6b21-4aad-e32f-7bb8b067513b"
      },
      "outputs": [
        {
          "output_type": "display_data",
          "data": {
            "text/plain": [
              "<Figure size 720x360 with 15 Axes>"
            ],
            "image/png": "[encoded data removed]"
          },
          "metadata": {
            "needs_background": "light"
          }
        }
      ],
      "source": [
        "plt.figure(figsize=(10,5))\n",
        "\n",
        "for X_batch, y_batch in train_datagen.flow(x_train, y_train, batch_size=15):\n",
        "  for i in range(0,15):\n",
        "    plt.subplot(3,5,i+1)\n",
        "    plt.imshow(X_batch[i].reshape(32,32,3),cmap=plt.get_cmap('gray'))\n",
        "    plt.axis('off')\n",
        "  plt.tight_layout(pad=0.1)\n",
        "  plt.show()\n",
        "  break\n"
      ]
    },
    {
      "cell_type": "code",
      "execution_count": 11,
      "metadata": {
        "id": "IGFf21M8BXIh"
      },
      "outputs": [],
      "source": [
        "model = Sequential()\n",
        "model.add(Conv2D(64,(3,3),activation='relu',input_shape=(32,32,3)))\n",
        "model.add(Conv2D(128,(3,3),activation='relu'))\n",
        "model.add(Conv2D(128,(3,3),activation='relu'))\n",
        "model.add(Flatten())\n",
        "model.add(Dense(256,activation='relu'))\n",
        "model.add(Dropout(0.2))\n",
        "model.add(Dense(128,activation='relu'))\n",
        "model.add(Dropout(0.2))\n",
        "model.add(Dense(10,activation='relu'))\n",
        "\n",
        "model.compile(loss='categorical_crossentropy', optimizer='adam',metrics=['accuracy'])"
      ]
    },
    {
      "cell_type": "code",
      "execution_count": 12,
      "metadata": {
        "colab": {
          "base_uri": "https://localhost:8080/"
        },
        "id": "iqnxtc8pMOfl",
        "outputId": "2f0a1fde-9a49-4203-da14-de484092306d"
      },
      "outputs": [
        {
          "output_type": "stream",
          "name": "stdout",
          "text": [
            "Model: \"sequential\"\n",
            "_________________________________________________________________\n",
            " Layer (type)                Output Shape              Param #   \n",
            "=================================================================\n",
            " conv2d (Conv2D)             (None, 30, 30, 64)        1792      \n",
            "                                                                 \n",
            " conv2d_1 (Conv2D)           (None, 28, 28, 128)       73856     \n",
            "                                                                 \n",
            " conv2d_2 (Conv2D)           (None, 26, 26, 128)       147584    \n",
            "                                                                 \n",
            " flatten (Flatten)           (None, 86528)             0         \n",
            "                                                                 \n",
            " dense (Dense)               (None, 256)               22151424  \n",
            "                                                                 \n",
            " dropout (Dropout)           (None, 256)               0         \n",
            "                                                                 \n",
            " dense_1 (Dense)             (None, 128)               32896     \n",
            "                                                                 \n",
            " dropout_1 (Dropout)         (None, 128)               0         \n",
            "                                                                 \n",
            " dense_2 (Dense)             (None, 10)                1290      \n",
            "                                                                 \n",
            "=================================================================\n",
            "Total params: 22,408,842\n",
            "Trainable params: 22,408,842\n",
            "Non-trainable params: 0\n",
            "_________________________________________________________________\n",
            "None\n"
          ]
        }
      ],
      "source": [
        "print(model.summary())"
      ]
    },
    {
      "cell_type": "code",
      "source": [
        "plot_model(model, to_file='model_plot.png', show_shapes=True, show_layer_names=True)"
      ],
      "metadata": {
        "id": "ROvYWcEzO2Pn",
        "outputId": "014d6c26-da65-4c3a-e3a4-74e0551722f1",
        "colab": {
          "base_uri": "https://localhost:8080/",
          "height": 1000
        }
      },
      "execution_count": 31,
      "outputs": [
        {
          "output_type": "execute_result",
          "data": {
            "text/plain": [
              "<IPython.core.display.Image object>"
            ],
            "image/png": "[encoded data removed]"
          },
          "metadata": {},
          "execution_count": 31
        }
      ]
    },
    {
      "cell_type": "code",
      "execution_count": 13,
      "metadata": {
        "id": "sZoFqvQeDbUZ"
      },
      "outputs": [],
      "source": [
        "bs = 64\n",
        "epochs = 15"
      ]
    },
    {
      "cell_type": "code",
      "execution_count": 14,
      "metadata": {
        "colab": {
          "base_uri": "https://localhost:8080/"
        },
        "id": "SqiuYwcyDeJj",
        "outputId": "aa4f0be6-01a1-49cc-e4bc-20e0bef9393a"
      },
      "outputs": [
        {
          "output_type": "stream",
          "name": "stdout",
          "text": [
            "Epoch 1/15\n"
          ]
        },
        {
          "output_type": "stream",
          "name": "stderr",
          "text": [
            "/usr/local/lib/python3.7/dist-packages/ipykernel_launcher.py:5: UserWarning: `Model.fit_generator` is deprecated and will be removed in a future version. Please use `Model.fit`, which supports generators.\n",
            "  \"\"\"\n"
          ]
        },
        {
          "output_type": "stream",
          "name": "stdout",
          "text": [
            "781/781 [==============================] - 43s 39ms/step - loss: 2.3246 - accuracy: 0.1462 - val_loss: 2.1771 - val_accuracy: 0.1745\n",
            "Epoch 2/15\n",
            "781/781 [==============================] - 33s 42ms/step - loss: 2.1937 - accuracy: 0.1802 - val_loss: 2.0217 - val_accuracy: 0.2701\n",
            "Epoch 3/15\n",
            "781/781 [==============================] - 31s 39ms/step - loss: 2.1636 - accuracy: 0.1951 - val_loss: 2.1258 - val_accuracy: 0.2174\n",
            "Epoch 4/15\n",
            "781/781 [==============================] - 32s 41ms/step - loss: 2.1248 - accuracy: 0.2225 - val_loss: 1.9875 - val_accuracy: 0.2762\n",
            "Epoch 5/15\n",
            "781/781 [==============================] - 31s 39ms/step - loss: 2.1180 - accuracy: 0.2131 - val_loss: 2.1613 - val_accuracy: 0.2053\n",
            "Epoch 6/15\n",
            "781/781 [==============================] - 32s 41ms/step - loss: 2.0733 - accuracy: 0.2395 - val_loss: 1.9641 - val_accuracy: 0.3126\n",
            "Epoch 7/15\n",
            "781/781 [==============================] - 32s 41ms/step - loss: 2.0179 - accuracy: 0.2605 - val_loss: 1.9950 - val_accuracy: 0.2784\n",
            "Epoch 8/15\n",
            "781/781 [==============================] - 31s 40ms/step - loss: 2.0468 - accuracy: 0.2524 - val_loss: 1.9547 - val_accuracy: 0.2757\n",
            "Epoch 9/15\n",
            "781/781 [==============================] - 32s 41ms/step - loss: 1.9917 - accuracy: 0.2736 - val_loss: 1.8806 - val_accuracy: 0.3235\n",
            "Epoch 10/15\n",
            "781/781 [==============================] - 31s 39ms/step - loss: 1.9989 - accuracy: 0.2767 - val_loss: 1.8212 - val_accuracy: 0.3434\n",
            "Epoch 11/15\n",
            "781/781 [==============================] - 32s 41ms/step - loss: 1.8608 - accuracy: 0.3237 - val_loss: 1.7467 - val_accuracy: 0.3650\n",
            "Epoch 12/15\n",
            "781/781 [==============================] - 32s 41ms/step - loss: 2.1199 - accuracy: 0.2128 - val_loss: 1.8782 - val_accuracy: 0.3262\n",
            "Epoch 13/15\n",
            "781/781 [==============================] - 32s 41ms/step - loss: 1.9741 - accuracy: 0.2754 - val_loss: 1.9304 - val_accuracy: 0.3181\n",
            "Epoch 14/15\n",
            "781/781 [==============================] - 31s 39ms/step - loss: 1.9471 - accuracy: 0.2937 - val_loss: 1.7759 - val_accuracy: 0.3543\n",
            "Epoch 15/15\n",
            "781/781 [==============================] - 32s 41ms/step - loss: 1.9120 - accuracy: 0.3072 - val_loss: 1.7829 - val_accuracy: 0.3636\n"
          ]
        }
      ],
      "source": [
        "history = model.fit_generator(train_datagen.flow(x_train, y_train,\n",
        "                              batch_size=bs),\n",
        "                              epochs=epochs,\n",
        "                              steps_per_epoch=len(x_train)/bs,\n",
        "                              validation_data=(x_val, y_val))"
      ]
    },
    {
      "cell_type": "code",
      "execution_count": 15,
      "metadata": {
        "colab": {
          "base_uri": "https://localhost:8080/"
        },
        "id": "CPhmL3-NDggX",
        "outputId": "7911fef2-d0d8-40ab-9b46-fa60cf15eb9e"
      },
      "outputs": [
        {
          "output_type": "stream",
          "name": "stdout",
          "text": [
            "313/313 [==============================] - 2s 5ms/step - loss: 1.7829 - accuracy: 0.3636\n",
            "Baseline accuracy: 0.3635999858379364\n"
          ]
        }
      ],
      "source": [
        "print(f'Baseline accuracy: {model.evaluate(x_val, y_val)[1]}')"
      ]
    },
    {
      "cell_type": "markdown",
      "metadata": {
        "id": "dcldtmHHDuV_"
      },
      "source": [
        "Test Image Generator"
      ]
    },
    {
      "cell_type": "code",
      "execution_count": 16,
      "metadata": {
        "id": "7Y92Mm5pDoFU"
      },
      "outputs": [],
      "source": [
        "tta_steps = 10"
      ]
    },
    {
      "cell_type": "code",
      "execution_count": 17,
      "metadata": {
        "id": "erW12rkkDyFc"
      },
      "outputs": [],
      "source": [
        "test_datagen = ImageDataGenerator(\n",
        "        shear_range=0.1,\n",
        "        zoom_range=0.1,\n",
        "        horizontal_flip=True,\n",
        "        rotation_range=10.,\n",
        "        fill_mode='reflect', \n",
        "        width_shift_range = 0.1, \n",
        "        height_shift_range = 0.1)"
      ]
    },
    {
      "cell_type": "code",
      "execution_count": 18,
      "metadata": {
        "colab": {
          "base_uri": "https://localhost:8080/"
        },
        "id": "s0FRgtDjDzkw",
        "outputId": "3088efe9-c20d-47aa-c51b-bf8bdab0c3a3"
      },
      "outputs": [
        {
          "output_type": "stream",
          "name": "stderr",
          "text": [
            "\r  0%|          | 0/10 [00:00<?, ?it/s]/usr/local/lib/python3.7/dist-packages/ipykernel_launcher.py:5: UserWarning: `Model.predict_generator` is deprecated and will be removed in a future version. Please use `Model.predict`, which supports generators.\n",
            "  \"\"\"\n",
            "100%|██████████| 10/10 [00:45<00:00,  4.53s/it]\n"
          ]
        }
      ],
      "source": [
        "predictions = []\n",
        "\n",
        "for i in tqdm(range(tta_steps)):\n",
        "    preds = model.predict_generator(test_datagen.flow(x_val, batch_size=bs,\n",
        "                                                      shuffle=False), steps = len(x_val)/bs)\n",
        "    predictions.append(preds)"
      ]
    },
    {
      "cell_type": "code",
      "source": [
        "model.__dir__()"
      ],
      "metadata": {
        "id": "yiz8FM22OOXX",
        "outputId": "42b29173-e84a-4b0e-cf17-e364d5521cb2",
        "colab": {
          "base_uri": "https://localhost:8080/"
        }
      },
      "execution_count": 30,
      "outputs": [
        {
          "output_type": "execute_result",
          "data": {
            "text/plain": [
              "['_self_setattr_tracking',\n",
              " '_is_model_for_instrumentation',\n",
              " '_instrumented_keras_api',\n",
              " '_instrumented_keras_layer_class',\n",
              " '_instrumented_keras_model_class',\n",
              " '_trainable',\n",
              " '_stateful',\n",
              " 'built',\n",
              " '_input_spec',\n",
              " '_build_input_shape',\n",
              " '_saved_model_inputs_spec',\n",
              " '_saved_model_arg_spec',\n",
              " '_supports_masking',\n",
              " '_name',\n",
              " '_activity_regularizer',\n",
              " '_trainable_weights',\n",
              " '_non_trainable_weights',\n",
              " '_updates',\n",
              " '_thread_local',\n",
              " '_callable_losses',\n",
              " '_losses',\n",
              " '_metrics',\n",
              " '_metrics_lock',\n",
              " '_dtype_policy',\n",
              " '_compute_dtype_object',\n",
              " '_autocast',\n",
              " '_self_tracked_trackables',\n",
              " '_inbound_nodes_value',\n",
              " '_outbound_nodes_value',\n",
              " '_expects_training_arg',\n",
              " '_default_training_arg',\n",
              " '_expects_mask_arg',\n",
              " '_dynamic',\n",
              " '_initial_weights',\n",
              " '_auto_track_sub_layers',\n",
              " '_preserve_input_structure_in_config',\n",
              " '_outer_name_scope',\n",
              " '_is_graph_network',\n",
              " 'inputs',\n",
              " 'outputs',\n",
              " 'input_names',\n",
              " 'output_names',\n",
              " '_compute_output_and_mask_jointly',\n",
              " '_distribution_strategy',\n",
              " '_cluster_coordinator',\n",
              " '_compiled_trainable_state',\n",
              " '_training_state',\n",
              " '_trackable_saver',\n",
              " '_steps_per_execution',\n",
              " '_train_counter',\n",
              " '_test_counter',\n",
              " '_predict_counter',\n",
              " '_base_model_initialized',\n",
              " '_inferred_input_shape',\n",
              " '_has_explicit_input_shape',\n",
              " '_input_dtype',\n",
              " '_layer_call_argspecs',\n",
              " '_created_nodes',\n",
              " '_graph_initialized',\n",
              " '_use_legacy_deferred_behavior',\n",
              " '_nested_inputs',\n",
              " '_nested_outputs',\n",
              " '_enable_dict_to_input_mapping',\n",
              " '_input_layers',\n",
              " '_output_layers',\n",
              " '_input_coordinates',\n",
              " '_output_coordinates',\n",
              " '_output_mask_cache',\n",
              " '_output_tensor_cache',\n",
              " '_output_shape_cache',\n",
              " '_network_nodes',\n",
              " '_nodes_by_depth',\n",
              " '_feed_input_names',\n",
              " '_feed_inputs',\n",
              " '_feed_input_shapes',\n",
              " '_tensor_usage_count',\n",
              " '_obj_reference_counts_dict',\n",
              " '_run_eagerly',\n",
              " '_self_unconditional_checkpoint_dependencies',\n",
              " '_self_unconditional_dependency_names',\n",
              " '_self_unconditional_deferred_dependencies',\n",
              " '_self_update_uid',\n",
              " '_self_name_based_restores',\n",
              " '_self_saveable_object_factories',\n",
              " 'optimizer',\n",
              " 'compiled_loss',\n",
              " 'compiled_metrics',\n",
              " '_is_compiled',\n",
              " 'loss',\n",
              " '_jit_compile',\n",
              " 'stop_training',\n",
              " 'train_tf_function',\n",
              " 'train_function',\n",
              " 'test_function',\n",
              " 'history',\n",
              " 'predict_function',\n",
              " '__module__',\n",
              " '__doc__',\n",
              " '__init__',\n",
              " 'layers',\n",
              " 'add',\n",
              " 'pop',\n",
              " '_build_graph_network_for_inferred_shape',\n",
              " 'build',\n",
              " 'call',\n",
              " 'compute_output_shape',\n",
              " 'compute_mask',\n",
              " 'get_config',\n",
              " 'from_config',\n",
              " 'input_spec',\n",
              " '_trackable_saved_model_saver',\n",
              " '_is_layer_name_unique',\n",
              " '_assert_weights_created',\n",
              " '_keras_api_names',\n",
              " '_keras_api_names_v1',\n",
              " '_TF_MODULE_IGNORED_PROPERTIES',\n",
              " '_init_graph_network',\n",
              " 'input',\n",
              " 'input_shape',\n",
              " 'output',\n",
              " 'output_shape',\n",
              " '_set_output_names',\n",
              " '_layer_checkpoint_dependencies',\n",
              " '_checkpoint_dependencies',\n",
              " '_lookup_dependency',\n",
              " '_handle_deferred_layer_dependencies',\n",
              " '_should_compute_mask',\n",
              " '_init_set_name',\n",
              " '_run_internal_graph',\n",
              " '_flatten_to_reference_inputs',\n",
              " '_conform_to_reference_input',\n",
              " '_validate_graph_inputs_and_outputs',\n",
              " '_insert_layers',\n",
              " '_compute_tensor_usage_count',\n",
              " '_graph_network_add_loss',\n",
              " '_graph_network_add_metric',\n",
              " '_get_save_spec',\n",
              " '_SCALAR_UPRANKING_ON',\n",
              " '__new__',\n",
              " '_init_batch_counters',\n",
              " '__setattr__',\n",
              " '__reduce__',\n",
              " '__deepcopy__',\n",
              " '__copy__',\n",
              " 'compile',\n",
              " '_get_optimizer',\n",
              " '_reset_compile_cache',\n",
              " '_configure_steps_per_execution',\n",
              " 'metrics',\n",
              " 'metrics_names',\n",
              " 'distribute_strategy',\n",
              " 'run_eagerly',\n",
              " '_validate_target_and_loss',\n",
              " 'train_step',\n",
              " 'compute_loss',\n",
              " 'compute_metrics',\n",
              " 'make_train_function',\n",
              " 'fit',\n",
              " 'test_step',\n",
              " 'make_test_function',\n",
              " 'evaluate',\n",
              " 'predict_step',\n",
              " 'make_predict_function',\n",
              " 'predict',\n",
              " 'reset_metrics',\n",
              " 'train_on_batch',\n",
              " 'test_on_batch',\n",
              " 'predict_on_batch',\n",
              " 'fit_generator',\n",
              " 'evaluate_generator',\n",
              " 'predict_generator',\n",
              " 'trainable_weights',\n",
              " 'non_trainable_weights',\n",
              " 'get_weights',\n",
              " 'save',\n",
              " 'save_weights',\n",
              " 'load_weights',\n",
              " '_updated_config',\n",
              " 'to_json',\n",
              " 'to_yaml',\n",
              " 'reset_states',\n",
              " 'state_updates',\n",
              " 'weights',\n",
              " '_undeduplicated_weights',\n",
              " 'summary',\n",
              " 'get_layer',\n",
              " '_set_save_spec',\n",
              " 'save_spec',\n",
              " '_check_call_args',\n",
              " '_validate_compile',\n",
              " '_maybe_load_initial_epoch_from_ckpt',\n",
              " '_assert_compile_was_called',\n",
              " '_set_inputs',\n",
              " '_list_functions_for_serialization',\n",
              " '_should_eval',\n",
              " '_get_compile_args',\n",
              " '_get_callback_model',\n",
              " '_in_multi_worker_mode',\n",
              " '_compile_was_called',\n",
              " '_must_restore_from_config',\n",
              " '_get_cell_name',\n",
              " '_instrument_layer_creation',\n",
              " '_add_trackable',\n",
              " 'add_weight',\n",
              " 'compute_output_signature',\n",
              " '_keras_tensor_symbolic_call',\n",
              " '_infer_output_signature',\n",
              " '__call__',\n",
              " '_functional_construction_call',\n",
              " '_set_training_mode',\n",
              " '_autographed_call',\n",
              " 'dtype',\n",
              " 'name',\n",
              " 'supports_masking',\n",
              " 'dynamic',\n",
              " 'stateful',\n",
              " 'trainable',\n",
              " 'activity_regularizer',\n",
              " 'updates',\n",
              " 'losses',\n",
              " 'add_loss',\n",
              " '_clear_losses',\n",
              " 'add_metric',\n",
              " 'add_update',\n",
              " 'set_weights',\n",
              " 'finalize_state',\n",
              " 'get_updates_for',\n",
              " 'get_losses_for',\n",
              " 'get_input_mask_at',\n",
              " 'get_output_mask_at',\n",
              " 'input_mask',\n",
              " 'output_mask',\n",
              " 'get_input_shape_at',\n",
              " 'get_output_shape_at',\n",
              " 'get_input_at',\n",
              " 'get_output_at',\n",
              " 'count_params',\n",
              " 'inbound_nodes',\n",
              " 'outbound_nodes',\n",
              " 'apply',\n",
              " 'add_variable',\n",
              " 'variables',\n",
              " 'trainable_variables',\n",
              " 'non_trainable_variables',\n",
              " '_inbound_nodes',\n",
              " '_outbound_nodes',\n",
              " '_set_dtype_policy',\n",
              " 'dtype_policy',\n",
              " 'compute_dtype',\n",
              " '_compute_dtype',\n",
              " 'variable_dtype',\n",
              " '_maybe_cast_inputs',\n",
              " '_should_cast_single_input',\n",
              " '_cast_single_input',\n",
              " '_dtype',\n",
              " '_name_scope',\n",
              " '_get_existing_metric',\n",
              " '_handle_weight_regularization',\n",
              " '_handle_activity_regularization',\n",
              " '_set_mask_metadata',\n",
              " '_set_mask_keras_history_checked',\n",
              " '_get_input_masks',\n",
              " '_call_arg_was_passed',\n",
              " '_get_call_arg_value',\n",
              " '_set_call_arg_value',\n",
              " '_set_connectivity_metadata',\n",
              " '_get_node_attribute_at_index',\n",
              " '_maybe_build',\n",
              " '_symbolic_call',\n",
              " '_get_trainable_state',\n",
              " '_set_trainable_state',\n",
              " '_obj_reference_counts',\n",
              " '_maybe_create_attribute',\n",
              " '__delattr__',\n",
              " '_gather_children_attribute',\n",
              " '_flatten_layers',\n",
              " '_flatten_modules',\n",
              " '_is_layer',\n",
              " '_init_call_fn_args',\n",
              " '_call_full_argspec',\n",
              " '_call_fn_args',\n",
              " '_call_fn_arg_defaults',\n",
              " '_call_fn_arg_positions',\n",
              " '_call_accepts_kwargs',\n",
              " '_eager_losses',\n",
              " '_dedup_weights',\n",
              " '_split_out_first_arg',\n",
              " '_object_identifier',\n",
              " '_tracking_metadata',\n",
              " '_list_extra_dependencies_for_serialization',\n",
              " '_use_input_spec_as_call_signature',\n",
              " '__getstate__',\n",
              " '__setstate__',\n",
              " 'name_scope',\n",
              " 'submodules',\n",
              " '_flatten',\n",
              " 'with_name_scope',\n",
              " '_tf_api_names',\n",
              " '_tf_api_names_v1',\n",
              " '_no_dependency',\n",
              " '_delete_tracking',\n",
              " '_add_trackable_child',\n",
              " '_setattr_tracking',\n",
              " '_update_uid',\n",
              " '_unconditional_checkpoint_dependencies',\n",
              " '_unconditional_dependency_names',\n",
              " '_name_based_restores',\n",
              " '_maybe_initialize_trackable',\n",
              " '_name_based_attribute_restore',\n",
              " '_deferred_dependencies',\n",
              " '_add_variable_with_custom_getter',\n",
              " '_preload_simple_restoration',\n",
              " '_track_trackable',\n",
              " '_handle_deferred_dependencies',\n",
              " '_restore_from_checkpoint_position',\n",
              " '_single_restoration_from_checkpoint_position',\n",
              " '_gather_saveables_for_checkpoint',\n",
              " '_map_resources',\n",
              " '_serialize_to_proto',\n",
              " '_deserialize_from_proto',\n",
              " '_deserialization_dependencies',\n",
              " '_trackable_children',\n",
              " '_get_legacy_saved_model_children',\n",
              " '__dict__',\n",
              " '__weakref__',\n",
              " '__repr__',\n",
              " '__hash__',\n",
              " '__str__',\n",
              " '__getattribute__',\n",
              " '__lt__',\n",
              " '__le__',\n",
              " '__eq__',\n",
              " '__ne__',\n",
              " '__gt__',\n",
              " '__ge__',\n",
              " '__reduce_ex__',\n",
              " '__subclasshook__',\n",
              " '__init_subclass__',\n",
              " '__format__',\n",
              " '__sizeof__',\n",
              " '__dir__',\n",
              " '__class__']"
            ]
          },
          "metadata": {},
          "execution_count": 30
        }
      ]
    },
    {
      "cell_type": "code",
      "source": [
        "len(predictions)"
      ],
      "metadata": {
        "id": "l6uEJ5T8OA9C",
        "outputId": "3ebd5d57-e815-4e50-9b0a-c75b6b91b8fd",
        "colab": {
          "base_uri": "https://localhost:8080/"
        }
      },
      "execution_count": 28,
      "outputs": [
        {
          "output_type": "execute_result",
          "data": {
            "text/plain": [
              "10"
            ]
          },
          "metadata": {},
          "execution_count": 28
        }
      ]
    },
    {
      "cell_type": "code",
      "execution_count": 19,
      "metadata": {
        "id": "CthvZZ8HD6pg"
      },
      "outputs": [],
      "source": [
        "final_pred = np.mean(predictions, axis=0)"
      ]
    },
    {
      "cell_type": "code",
      "execution_count": 32,
      "metadata": {
        "colab": {
          "base_uri": "https://localhost:8080/"
        },
        "id": "M_AD3bB6Lvyq",
        "outputId": "89c7ce00-5f81-428d-9fe5-dec70126d493"
      },
      "outputs": [
        {
          "output_type": "execute_result",
          "data": {
            "text/plain": [
              "(10000, 10)"
            ]
          },
          "metadata": {},
          "execution_count": 32
        }
      ],
      "source": [
        "predictions[9].shape"
      ]
    },
    {
      "cell_type": "code",
      "execution_count": 21,
      "metadata": {
        "colab": {
          "base_uri": "https://localhost:8080/"
        },
        "id": "il0UH4QSLqzI",
        "outputId": "fbac5d0c-40e3-4a8c-afca-a669e6165b19"
      },
      "outputs": [
        {
          "output_type": "execute_result",
          "data": {
            "text/plain": [
              "(10000, 10)"
            ]
          },
          "metadata": {},
          "execution_count": 21
        }
      ],
      "source": [
        "final_pred.shape"
      ]
    },
    {
      "cell_type": "code",
      "execution_count": 34,
      "metadata": {
        "colab": {
          "base_uri": "https://localhost:8080/",
          "height": 264
        },
        "id": "sXDH0zfIEOK3",
        "outputId": "d0e45b47-2411-4dcb-8b44-336881c16b79"
      },
      "outputs": [
        {
          "output_type": "display_data",
          "data": {
            "text/plain": [
              "<Figure size 432x288 with 1 Axes>"
            ],
            "image/png": "[encoded data removed]"
          },
          "metadata": {
            "needs_background": "light"
          }
        }
      ],
      "source": [
        "for i  in range(6):\n",
        "  test_image = x_val[i]\n",
        "  plt.imshow(test_image)\n",
        "  plt.title(f'real label: {np.argmax(y_val[image_ix])}')\n",
        "  plt.axis('off');"
      ]
    },
    {
      "cell_type": "code",
      "execution_count": 33,
      "metadata": {
        "id": "ITMlX89ZEPp2",
        "colab": {
          "base_uri": "https://localhost:8080/"
        },
        "outputId": "a4e76153-9a81-4b2e-f81b-8acb3d371b04"
      },
      "outputs": [
        {
          "output_type": "execute_result",
          "data": {
            "text/plain": [
              "(10000, 32, 32, 3)"
            ]
          },
          "metadata": {},
          "execution_count": 33
        }
      ],
      "source": [
        "x_val.shape"
      ]
    },
    {
      "cell_type": "code",
      "source": [
        "plt.figure(figsize=(10,5))\n",
        "\n",
        "for i in range(0,15):\n",
        "  plt.subplot(3,5,i+1)\n",
        "  plt.imshow(x_val[i].reshape(32,32,3),cmap=plt.get_cmap('gray'))\n",
        "  plt.title(f'real label: {np.argmax(y_val[i])}')\n",
        "  plt.axis('off')\n",
        "plt.tight_layout(pad=0.1)\n",
        "plt.show()\n",
        "break"
      ],
      "metadata": {
        "id": "MFCvOflzUlvP",
        "outputId": "b580dc88-7778-4eb1-c04d-0924d9284eb7",
        "colab": {
          "base_uri": "https://localhost:8080/",
          "height": 502
        }
      },
      "execution_count": 36,
      "outputs": [
        {
          "output_type": "display_data",
          "data": {
            "text/plain": [
              "<Figure size 720x360 with 15 Axes>"
            ],
            "image/png": "[encoded data removed]"
          },
          "metadata": {
            "needs_background": "light"
          }
        },
        {
          "output_type": "error",
          "ename": "SyntaxError",
          "evalue": "ignored",
          "traceback": [
            "\u001b[0;36m  File \u001b[0;32m\"<ipython-input-36-2c712607138c>\"\u001b[0;36m, line \u001b[0;32m10\u001b[0m\n\u001b[0;31m    break\u001b[0m\n\u001b[0m         ^\u001b[0m\n\u001b[0;31mSyntaxError\u001b[0m\u001b[0;31m:\u001b[0m 'break' outside loop\n"
          ]
        }
      ]
    },
    {
      "cell_type": "code",
      "source": [
        ""
      ],
      "metadata": {
        "id": "F08xPR8yVR95"
      },
      "execution_count": null,
      "outputs": []
    }
  ],
  "metadata": {
    "accelerator": "GPU",
    "colab": {
      "name": "Test-Time Augmentation",
      "provenance": [],
      "include_colab_link": true
    },
    "gpuClass": "standard",
    "kernelspec": {
      "display_name": "Python 3",
      "name": "python3"
    },
    "language_info": {
      "name": "python"
    }
  },
  "nbformat": 4,
  "nbformat_minor": 0
}